{
 "cells": [
  {
   "cell_type": "markdown",
   "metadata": {},
   "source": [
    "---\n",
    "comments: True\n",
    "layout: post\n",
    "toc: True\n",
    "title: Beneficial and Harmfull Effects Team Teach\n",
    "description: Team Teach\n",
    "type: hacks\n",
    "courses: { \"compsci\": { \"week\": 2 } }\n",
    "---"
   ]
  },
  {
   "cell_type": "code",
   "execution_count": null,
   "metadata": {},
   "outputs": [],
   "source": []
  }
 ],
 "metadata": {
  "language_info": {
   "name": "python"
  }
 },
 "nbformat": 4,
 "nbformat_minor": 2
}
