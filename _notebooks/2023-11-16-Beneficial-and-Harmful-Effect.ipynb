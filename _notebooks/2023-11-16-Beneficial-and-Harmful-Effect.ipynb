{
 "cells": [
  {
   "cell_type": "markdown",
   "metadata": {},
   "source": [
    "---\n",
    "comments: True\n",
    "layout: post\n",
    "toc: True\n",
    "title: Beneficial and Harmfull Effects Team Teach\n",
    "description: Team Teach\n",
    "type: hacks\n",
    "courses: { \"compsci\": { \"week\": 2 } }\n",
    "---"
   ]
  },
  {
   "cell_type": "markdown",
   "metadata": {},
   "source": [
    "# 5.1 Beneficial and harmful effects \n",
    "\n",
    "## Part 1\n",
    "\n",
    "- Innovations are crafted with specific goals in mind. But they can have unforeseen consequences, both positive and negative.\n",
    "- People are the driving force behind creating computing innovations.\n",
    "- A creator cant predict all the things that can be done with their innovation as there are so many things that could be done and as technology evolves, new uses are made\n"
   ]
  },
  {
   "cell_type": "markdown",
   "metadata": {},
   "source": [
    "### Popcorn Hack 1\n",
    "\n",
    "What is an example of a computing innovation with unintended consequences, whether positive or negative?\n",
    "\n",
    "- ANSWER\n"
   ]
  },
  {
   "cell_type": "markdown",
   "metadata": {},
   "source": [
    "## Part 2\n",
    "\n",
    "- Targeted advertising, machine learning, and data mining are all good exampels of how unintended uses can have both positive and negative effecs\n",
    "- Even though it is impossible to predict all possibilities, a responsible programmer's goal it to forsee and prevent any unintended/negative uses and effects\n",
    "- Rapid sharing of a program can lead to events outside the creators control\n",
    "\n"
   ]
  },
  {
   "cell_type": "markdown",
   "metadata": {},
   "source": [
    "### Popcorn Hack 2\n",
    "\n",
    "How does responsible programming contribute to minimizing unintended harmful impacts?\n",
    "\n",
    "- ANSWER\n",
    "\n"
   ]
  },
  {
   "cell_type": "markdown",
   "metadata": {},
   "source": [
    "## Part 3\n",
    "\n",
    "- Finding a balance between innovation and responsibility is important\n",
    "- Programmers shape the impact of their creations on society.\n",
    "- Unintended uses of innovations may have harmful impacts on society\n",
    "- Innovations often bring unintended benefits by helping in advances in new technology\n",
    "\n"
   ]
  },
  {
   "cell_type": "markdown",
   "metadata": {},
   "source": [
    "### Popcorn Hack 3\n",
    "Why is it important for programmers to consider the unintended consequences of their innovations?\n",
    "\n",
    "- ANSWER\n",
    "\n"
   ]
  },
  {
   "cell_type": "markdown",
   "metadata": {},
   "source": [
    "### Homework\n",
    "- Choose an innovation(Social media, computers, phones, etc.) and talk about an alternative use than what its actually use for. Then, give the potential positive and negative impacts of the use you came up with\n",
    "\n",
    "> - ANSWER\n",
    "\n",
    "- add one more\n",
    "\n",
    "> - ANSWER\n"
   ]
  }
 ],
 "metadata": {
  "language_info": {
   "name": "python"
  }
 },
 "nbformat": 4,
 "nbformat_minor": 2
}
