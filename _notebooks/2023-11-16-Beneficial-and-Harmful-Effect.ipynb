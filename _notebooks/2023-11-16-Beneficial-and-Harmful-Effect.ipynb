{
 "cells": [
  {
   "cell_type": "markdown",
   "metadata": {},
   "source": [
    "---\n",
    "comments: True\n",
    "layout: post\n",
    "toc: True\n",
    "title: Beneficial and Harmfull Effects Team Teach\n",
    "description: Team Teach\n",
    "type: hacks\n",
    "courses: { \"compsci\": { \"week\": 2 } }\n",
    "---"
   ]
  },
  {
   "cell_type": "markdown",
   "metadata": {},
   "source": [
    "# 5.1 Beneficial and harmful effects \n",
    "\n",
    "## Beneficial and Harmful Effects of Technological Innovations\n",
    "\n",
    "- People are the driving force behind creating computing innovations.\n",
    "\n",
    "- Innovations are crafted with specific goals in mind. But they can have unforeseen consequences, both positive and negative.\n",
    "\n",
    "- A creator cant predict all the things that can be done with their innovation as there are so many things that could be done and as technology evolves, new uses are made\n"
   ]
  },
  {
   "cell_type": "markdown",
   "metadata": {},
   "source": [
    "# Dopamine\n",
    "\n",
    "## Postives\n",
    "- Social Connection: Social media platforms allow people to connect with friends and family, especially those who may be geographically distant. It facilitates communication, sharing of experiences, and staying updated on each other's lives.\n",
    "\n",
    "- Learning Opportunities: Many video games are designed to be educational and can enhance cognitive skills such as problem-solving, strategic thinking, and hand-eye coordination. Some games even incorporate historical or scientific elements, providing players with additional knowledge.\n",
    "\n",
    "- Creativity: Video games often stimulate creativity and imagination. Games with open-world exploration or creative building elements encourage players to think outside the box and express themselves in unique ways.\n",
    "\n",
    "- Community Building: Both video games and social media can foster a sense of community. Gamers often form online communities where they share tips, strategies, and experiences. Social media also allows people with common interests to connect and form communities.\n",
    "\n",
    "## Negatives\n",
    "\n",
    "- Anthony Rosner story.\n",
    "- Played up to 18 hours every single day and became extremely succesfull in world of warcraft but suffered in every other aspect of his life: school and relationships\n",
    "- Eventually quit gaming, became a succesful DJ, and created a documentary.\n"
   ]
  },
  {
   "cell_type": "markdown",
   "metadata": {},
   "source": [
    "# Example Beneficial and Corresponding Harmful Efects of Computing\n",
    "\n",
    "> Tik Tok\n",
    "- Postive: Platform for people to share their creativity and talents\n",
    "- Negative: \"Doom Scrolling\"\n",
    "\n",
    "\n",
    "ADD TWO MORE EXAMPLES"
   ]
  },
  {
   "cell_type": "markdown",
   "metadata": {},
   "source": [
    "### Popcorn Hack 1\n",
    "\n",
    "What is an example of a computing innovation with unintended consequences, whether positive or negative?\n",
    "\n",
    "- ANSWER\n"
   ]
  },
  {
   "cell_type": "markdown",
   "metadata": {},
   "source": [
    "\n",
    "## Mitigating Risks/Responsiblity\n",
    "\n",
    "- Targeted advertising, machine learning, and data mining are all good exampels of how unintended uses can have both positive and negative effecs\n",
    "\n",
    "- Even though it is impossible to predict all possibilities, a responsible programmer's goal it to forsee and prevent any unintended/negative uses and effects\n",
    "\n",
    "- Rapid sharing of a program can lead to events outside the creators control\n",
    "\n"
   ]
  },
  {
   "cell_type": "markdown",
   "metadata": {},
   "source": [
    "### Popcorn Hack 2\n",
    "\n",
    "How can responsible programming help contribute to minimizing unintended harmful impacts?\n",
    "\n",
    "- ANSWER\n",
    "\n"
   ]
  },
  {
   "cell_type": "markdown",
   "metadata": {},
   "source": [
    "## Finding Balance\n",
    "\n",
    "- Finding a balance between innovation and responsibility is important\n",
    "\n",
    "- Programmers shape the impact of their creations on society.\n",
    "\n",
    "- Unintended uses of innovations may potentiallyhave harmful impacts on society\n",
    "\n",
    "- While negative effects could occur, Innovations often bring unintended benefits by helping advance the current states of technology.\n",
    "\n"
   ]
  },
  {
   "cell_type": "markdown",
   "metadata": {},
   "source": [
    "### Popcorn Hack 3\n",
    "Why is it important for programmers to consider the unintended consequences of their innovations? \n",
    "- ANSWER\n",
    "\n"
   ]
  },
  {
   "cell_type": "markdown",
   "metadata": {},
   "source": [
    "### Bonus Hack(0.05 extra points)\n",
    "Self Reflect on your use of technology? Whats your daily screen time? What beneficial effects of technology do you utilize and what are some negative consequences you succcumb to?\n",
    "- ANSWER\n",
    "\n"
   ]
  },
  {
   "cell_type": "markdown",
   "metadata": {},
   "source": [
    "### Homework\n",
    "- Choose an innovation(Social media, computers, phones, etc.) and talk about an alternative use than what its actually use for. Then, give the potential positive and negative impacts of the use you came up with\n",
    "\n",
    "> - ANSWER\n",
    "\n",
    "- SECOND QUESTION\n",
    "\n",
    "> - ANSWER\n"
   ]
  }
 ],
 "metadata": {
  "language_info": {
   "name": "python"
  }
 },
 "nbformat": 4,
 "nbformat_minor": 2
}
