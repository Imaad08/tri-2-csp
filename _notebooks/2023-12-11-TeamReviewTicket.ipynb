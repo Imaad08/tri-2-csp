{
 "cells": [
  {
   "cell_type": "markdown",
   "metadata": {},
   "source": [
    "---\n",
    "toc: true\n",
    "comments: true\n",
    "layout: notebook\n",
    "title: Team Review Ticket \n",
    "description: Reviewed another team's contributions for the Binary Project.\n",
    "courses: { csp: {week: 3} }\n",
    "type: hacks\n",
    "---"
   ]
  },
  {
   "cell_type": "markdown",
   "metadata": {},
   "source": [
    "Aidan Lau: \n",
    "\n",
    "Total Score: 0.9\n",
    "\n",
    "Runtime: https://aidanlau10.github.io/projecttri2//2023/11/16/logic-emojis_IPYNB_2_.html\n",
    "A logic gates using emojis.\n",
    "\n",
    "Issues: Scrum Board\n",
    "\n",
    "Key Commits: Binary Lamp Code, Logic Gates with emojis\n",
    "\n",
    "Analytics: https://github.com/AidanLau10\n",
    "\n",
    "\n"
   ]
  }
 ],
 "metadata": {
  "language_info": {
   "name": "python"
  },
  "orig_nbformat": 4
 },
 "nbformat": 4,
 "nbformat_minor": 2
}
