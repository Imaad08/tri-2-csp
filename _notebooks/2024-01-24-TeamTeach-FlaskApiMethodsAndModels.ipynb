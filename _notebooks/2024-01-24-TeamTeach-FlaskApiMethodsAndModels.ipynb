{
 "cells": [
  {
   "cell_type": "markdown",
   "metadata": {},
   "source": [
    "---\n",
    "comments: True\n",
    "layout: post\n",
    "toc: True\n",
    "title: Flask Api Methods and Models Team Teach\n",
    "description: Flask Api Methods and Models Team Teach\n",
    "type: hacks\n",
    "courses: { \"compsci\": { \"week\": 19 } }\n",
    "---"
   ]
  },
  {
   "cell_type": "markdown",
   "metadata": {},
   "source": [
    "# Flask API Methods and Model Updates\n",
    "\n",
    "This is an explanation on how to connect the frontend to the backend api to make a functional login and sign up page\n",
    "\n",
    "### JWTs\n",
    "JWT (JSON Web Token) is a way to share information securely between different parts of a web application. It's like a message with three parts: a header (information about how the message is secured), a payload (actual data), and a signature (to make sure the message hasn't been tampered with).\n",
    "\n",
    "- JWTs are secure due to their use of a signature for data integrity and authentication, ensuring that only authorized parties with the correct secret key can generate and verify the tokens. Additionally, their compact and stateless nature, along with standardized practices, contribute to their security in various web application scenarios.\n",
    "\n",
    "- Watch Payload: Be careful about what you put in the payload. It's like a postcard - anyone can read it. Don't put super-secret stuff there unless the whole message is encrypted.\n",
    "\n",
    "### Frontend Methods for Login/Signup:\n",
    "\n",
    "- GET: Asks for data(useful for displaying the users)\n",
    "- POST: Sends data to be saved which is primarily what we use for logins and sign ups\n",
    "- PUT: Updates existing data(useful for updating passwords)\n",
    "- Delete: Deletes data(Useful for deleting accounts)\n",
    "\n",
    "These methods help the frontend (what you see on a website) talk to the backend (where data is stored). They're like different actions – asking for info, saving new info, changing existing info, or deleting something.\n",
    "\n",
    "\n"
   ]
  },
  {
   "cell_type": "markdown",
   "metadata": {},
   "source": [
    "# How do Frontend and Backend work?\n",
    "\n",
    "Frontend is responsible for the visual elements users interact with, using languages like HTML, CSS, and JavaScript. Backend manages server-side operations, handling data processing and application logic with languages like Python or Node.js. They collaborate to create a complete web application, with the frontend sending requests to the backend for data and functionality.\n",
    "\n",
    "<img src=\"https://i.ibb.co/n7fgr69/frontend-vs-bancend.webp\">"
   ]
  },
  {
   "cell_type": "markdown",
   "metadata": {},
   "source": [
    "# Login Page\n",
    "This is some python code that we can put into the user.py api to add a login feature\n",
    "- This works by searching the database for the provided username and password\n",
    "- Would be part of the Backend Code in your user.py file"
   ]
  },
  {
   "cell_type": "code",
   "execution_count": null,
   "metadata": {},
   "outputs": [],
   "source": [
    "class Login(Resource):\n",
    "        def post(self):\n",
    "            data = request.get_json()\n",
    "\n",
    "            uid = data.get('uid')\n",
    "            password = data.get('password')\n",
    "\n",
    "            if not uid or not password:\n",
    "                response = {'message': 'Invalid creds'}\n",
    "                return make_response(jsonify(response), 401)\n",
    "#~~~~~~~~~~~~~~~~~~~~~~~~~~~~~~~~~~~~~~~~~~~~~~~~~~~~~~~~~~\n",
    "            user = User.query.filter_by(_uid=uid).first()\n",
    "\n",
    "            if user and user.is_password(password):\n",
    "                response = {\n",
    "                    'message': 'Logged in successfully',\n",
    "                    'user': {\n",
    "                        'name': user.name,  \n",
    "                        'id': user.id\n",
    "                    }\n",
    "                }\n",
    "                return make_response(jsonify(response), 200)\n",
    "#~~~~~~~~~~~~~~~~~~~~~~~~~~~~~~~~~~~~~~~~~~~~~~~~~~~~~~~~~~\n",
    "            response = {'message': 'Invalid id or pass'}\n",
    "            return make_response(jsonify(response), 401)\n",
    "            \n",
    "api.add_resource(Login, '/login')"
   ]
  },
  {
   "cell_type": "markdown",
   "metadata": {},
   "source": [
    "# API Security for Logging In\n",
    "\n",
    "1. Request Data Validation (Lines 5-10):\n",
    "- The code extracts user input (uid and password) from the JSON data received in the POST request.\n",
    "- It checks if both uid and password are present in the request. If either is missing, it returns a 401 error.\n",
    "- The 401 (Unauthorized) status code indicates that the request has not been applied because it lacks valid authentication credentials for the target resource\n",
    "\n",
    "2. User Authentication (Lines 12-18):\n",
    "- The code searches the database for a user with the provided uid.\n",
    "- If a user is found and the provided password matches the stored password using user.is_password(password), it indicates successful authentication.\n",
    "- The response includes a 200 OK status along with a message indicating successful login and some user details.\n",
    "- The HTTP 200 OK success status response code indicates that the request has succeeded.\n",
    "\n",
    "3. \n",
    "- This code snippet focuses on validating user input, authenticating users against stored credentials, and providing appropriate responses based on the authentication status. \n",
    "- It utilizes HTTP status codes (401 for unauthorized) and JSON responses to communicate the outcome of the login attempt."
   ]
  },
  {
   "cell_type": "markdown",
   "metadata": {},
   "source": [
    "### Now lets make a login form with HTML and Javascript\n",
    "- You can style this with Saas\n",
    "- The username toby with the password 123toby should be an account already\n",
    "- Make sure to open the console by opening developer tools so you can see the logs"
   ]
  },
  {
   "cell_type": "code",
   "execution_count": 3,
   "metadata": {
    "vscode": {
     "languageId": "html"
    }
   },
   "outputs": [
    {
     "data": {
      "text/html": [
       "<div id=\"login\">\n",
       "    <p><label>\n",
       "        User ID:\n",
       "        <input type=\"text\" name=\"uid\" id=\"uid\" required>\n",
       "    </label></p>\n",
       "    <p><label>\n",
       "        Password:\n",
       "        <input type=\"password\" name=\"password\" id=\"password\" required>\n",
       "    </label></p>\n",
       "    <p>\n",
       "        <button class=\"button\" type=\"submit\">Log in</button>\n",
       "    </p>\n",
       "</div>\n",
       "<script>\n",
       "    document.getElementById('login').addEventListener('submit', function(event) {\n",
       "             event.preventDefault(); \n",
       "             const uid = document.getElementById('uid').value;\n",
       "             const password = document.getElementById('password').value;\n",
       "             const loginData = {\n",
       "                 uid: uid,\n",
       "                 password: password\n",
       "             };\n",
       "             fetch('http://127.0.0.1:8086/api/users/login', { // use your own port please\n",
       "                 method: 'POST',\n",
       "                 headers: {\n",
       "                     'Content-Type': 'application/json'\n",
       "                 },\n",
       "                 body: JSON.stringify(loginData)\n",
       "             })\n",
       "             .then(response => {\n",
       "                 if (response.ok) {\n",
       "                     return response.json();\n",
       "                 } else {\n",
       "                     if (response.status === 401) {\n",
       "                         throw new Error('Wrong username or password. Please retype.');\n",
       "                     } else if (response.status === 404) {\n",
       "                         throw new Error('Username or password not found. Please register first.');\n",
       "                     } else {\n",
       "                         throw new Error('Login failed');\n",
       "                     }\n",
       "                 }\n",
       "             })\n",
       "             .then(data => {\n",
       "                 console.log('it worked!');\n",
       "             })\n",
       "             .catch(error => {\n",
       "                 console.error('Error:', error.message);\n",
       "                 alert(error.message);\n",
       "             });\n",
       "         });\n",
       "     </script>\n"
      ],
      "text/plain": [
       "<IPython.core.display.HTML object>"
      ]
     },
     "metadata": {},
     "output_type": "display_data"
    }
   ],
   "source": [
    "%%HTML\n",
    "<div id=\"login\">\n",
    "    <p><label>\n",
    "        User ID:\n",
    "        <input type=\"text\" name=\"uid\" id=\"uid\" required>\n",
    "    </label></p>\n",
    "    <p><label>\n",
    "        Password:\n",
    "        <input type=\"password\" name=\"password\" id=\"password\" required>\n",
    "    </label></p>\n",
    "    <p>\n",
    "        <button class=\"button\" type=\"submit\">Log in</button>\n",
    "    </p>\n",
    "</div>\n",
    "<script>\n",
    "    document.getElementById('login').addEventListener('submit', function(event) {\n",
    "             event.preventDefault(); \n",
    "             const uid = document.getElementById('uid').value;\n",
    "             const password = document.getElementById('password').value;\n",
    "             const loginData = {\n",
    "                 uid: uid,\n",
    "                 password: password\n",
    "             };\n",
    "             fetch('http://127.0.0.1:8086/api/users/login', { // use your own port please\n",
    "                 method: 'POST',\n",
    "                 headers: {\n",
    "                     'Content-Type': 'application/json'\n",
    "                 },\n",
    "                 body: JSON.stringify(loginData)\n",
    "             })\n",
    "             .then(response => {\n",
    "                 if (response.ok) {\n",
    "                     return response.json();\n",
    "                 } else {\n",
    "                     if (response.status === 401) {\n",
    "                         throw new Error('Wrong username or password. Please retype.');\n",
    "                     } else if (response.status === 404) {\n",
    "                         throw new Error('Username or password not found. Please register first.');\n",
    "                     } else {\n",
    "                         throw new Error('Login failed');\n",
    "                     }\n",
    "                 }\n",
    "             })\n",
    "             .then(data => {\n",
    "                 console.log('it worked!');\n",
    "             })\n",
    "             .catch(error => {\n",
    "                 console.error('Error:', error.message);\n",
    "                 alert(error.message);\n",
    "             });\n",
    "         });\n",
    "     </script>"
   ]
  },
  {
   "cell_type": "markdown",
   "metadata": {},
   "source": [
    "# Sign up page\n",
    "Now we need to be able to add users to the database\n",
    "- This works by adding sql into the database\n",
    "\n",
    "### POST method for creating users"
   ]
  },
  {
   "cell_type": "code",
   "execution_count": null,
   "metadata": {},
   "outputs": [],
   "source": [
    "class _Create(Resource):\n",
    "        def post(self):\n",
    "            body = request.get_json()\n",
    "            name = body.get('name')\n",
    "            uid = body.get('uid')\n",
    "            password = body.get('password')\n",
    "            if uid is not None:\n",
    "                new_user = User(name=name, uid=uid, password=password)\n",
    "            user = new_user.create()\n",
    "            if user:\n",
    "                return user.read()\n",
    "            return {'uid is possibly a dupe'}, 400\n",
    " api.add_resource(_Create, '/create')"
   ]
  },
  {
   "cell_type": "markdown",
   "metadata": {},
   "source": [
    "### Making a sign up page with HTML and JavaScript to add accounts"
   ]
  },
  {
   "cell_type": "code",
   "execution_count": 1,
   "metadata": {
    "vscode": {
     "languageId": "html"
    }
   },
   "outputs": [
    {
     "data": {
      "text/html": [
       "<div id=\"signup\">\n",
       "  <p><label>\n",
       "      Name:\n",
       "      <input type=\"text\" name=\"name\" id=\"name\" required>\n",
       "  </label></p>\n",
       "  <p><label>\n",
       "      User ID:\n",
       "      <input type=\"text\" name=\"uid\" id=\"uid\" required>\n",
       "  </label></p>\n",
       "  <p><label>\n",
       "      Password:\n",
       "      <input type=\"password\" name=\"password\" id=\"password\" required>\n",
       "  </label></p>\n",
       "  <p>\n",
       "      <button class=\"button\" type=\"submit\" onclick=\"signup()\" >Sign Up</button>\n",
       "  </p>\n",
       "</div>\n",
       "\n",
       "<script>\n",
       "  function signup() {\n",
       "       var name = document.getElementById('name').value;\n",
       "       var uid = document.getElementById('uid').value;\n",
       "       var password = document.getElementById('password').value;\n",
       "       var requestBody = {\n",
       "           name: name,\n",
       "           uid: uid,\n",
       "           password: password\n",
       "       };\n",
       "       fetch('http://localhost:8086/api/users/create', { //use your own port\n",
       "           method: 'POST',\n",
       "           headers: {\n",
       "               'Content-Type': 'application/json',\n",
       "           },\n",
       "           body: JSON.stringify(requestBody),\n",
       "       })\n",
       "       .then(response => response.json())\n",
       "       .then(data => {\n",
       "           console.log('Sign Up successful:', data);\n",
       "           window.location.href = \"{{site.baseurl}}/login\";\n",
       "       })\n",
       "       .catch(error => {\n",
       "           console.error('Error:', error);\n",
       "       });\n",
       "   }\n",
       "</script>\n"
      ],
      "text/plain": [
       "<IPython.core.display.HTML object>"
      ]
     },
     "metadata": {},
     "output_type": "display_data"
    }
   ],
   "source": [
    "%%HTML\n",
    "<div id=\"signup\">\n",
    "  <p><label>\n",
    "      Name:\n",
    "      <input type=\"text\" name=\"name\" id=\"name\" required>\n",
    "  </label></p>\n",
    "  <p><label>\n",
    "      User ID:\n",
    "      <input type=\"text\" name=\"uid\" id=\"uid\" required>\n",
    "  </label></p>\n",
    "  <p><label>\n",
    "      Password:\n",
    "      <input type=\"password\" name=\"password\" id=\"password\" required>\n",
    "  </label></p>\n",
    "  <p>\n",
    "      <button class=\"button\" type=\"submit\" onclick=\"signup()\" >Sign Up</button>\n",
    "  </p>\n",
    "</div>\n",
    "\n",
    "<script>\n",
    "  function signup() {\n",
    "       var name = document.getElementById('name').value;\n",
    "       var uid = document.getElementById('uid').value;\n",
    "       var password = document.getElementById('password').value;\n",
    "       var requestBody = {\n",
    "           name: name,\n",
    "           uid: uid,\n",
    "           password: password\n",
    "       };\n",
    "       fetch('http://localhost:8086/api/users/create', { //use your own port\n",
    "           method: 'POST',\n",
    "           headers: {\n",
    "               'Content-Type': 'application/json',\n",
    "           },\n",
    "           body: JSON.stringify(requestBody),\n",
    "       })\n",
    "       .then(response => response.json())\n",
    "       .then(data => {\n",
    "           console.log('Sign Up successful:', data);\n",
    "           window.location.href = \"{{site.baseurl}}/login\";\n",
    "       })\n",
    "       .catch(error => {\n",
    "           console.error('Error:', error);\n",
    "       });\n",
    "   }\n",
    "</script>\n"
   ]
  },
  {
   "cell_type": "markdown",
   "metadata": {},
   "source": [
    "# Postman (Testing)\n",
    "\n",
    "- Browers can only be uesd for testing GET API's but if you want to test other API methrods like POST, UPDATE, DELETE a tool like PostMan is a solution.\n",
    "- Tests can be saved.\n",
    "\n",
    "## Steps for Usage\n",
    "\n",
    "- Run your main.py file in Vscode and get the local link (Ex: http://192.168.1.75:8086/) then plug into PostMan\n",
    "\n",
    "## GETTING EXAMPLE \n",
    "<img src=\"https://nighthawkcoders.github.io/APCSP/images/copied_from_nb/images/postmain_read_get_users.png\" width=1000px height=auto>\n",
    "\n",
    "## POSTING EXAMPLE\n",
    "<img src=\"https://nighthawkcoders.github.io/APCSP/images/copied_from_nb/images/postman_create_post_users.png\" width=1000px height=auto>\n"
   ]
  }
 ],
 "metadata": {
  "kernelspec": {
   "display_name": "Python 3",
   "language": "python",
   "name": "python3"
  },
  "language_info": {
   "codemirror_mode": {
    "name": "ipython",
    "version": 3
   },
   "file_extension": ".py",
   "mimetype": "text/x-python",
   "name": "python",
   "nbconvert_exporter": "python",
   "pygments_lexer": "ipython3",
   "version": "3.11.6"
  }
 },
 "nbformat": 4,
 "nbformat_minor": 2
}
