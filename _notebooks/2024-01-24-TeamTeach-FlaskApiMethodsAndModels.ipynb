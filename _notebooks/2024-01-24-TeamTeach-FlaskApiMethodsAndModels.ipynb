{
 "cells": [
  {
   "cell_type": "markdown",
   "metadata": {},
   "source": [
    "---\n",
    "comments: True\n",
    "layout: post\n",
    "toc: True\n",
    "title: Flask Api Methods and Models Team Teach\n",
    "description: Flask Api Methods and Models Team Teach\n",
    "type: hacks\n",
    "courses: { \"compsci\": { \"week\": 19 } }\n",
    "---"
   ]
  },
  {
   "cell_type": "markdown",
   "metadata": {},
   "source": [
    "# Flask API Methods and Model Updates\n",
    "\n",
    "This is an explanation on how to connect the frontend to the backend api to make a login and sign up page\n",
    "\n",
    "### JWTs\n",
    "JWT (JSON Web Token) is a way to share information securely between different parts of a web application. It's like a message with three parts: a header (information about how the message is secured), a payload (actual data), and a signature (to make sure the message hasn't been tampered with).\n",
    "\n",
    "- JWTs are secure due to their use of a signature for data integrity and authentication, ensuring that only authorized parties with the correct secret key can generate and verify the tokens. Additionally, their compact and stateless nature, along with standardized practices, contribute to their security in various web application scenarios.\n",
    "\n",
    "- Watch Payload: Be careful about what you put in the payload. It's like a postcard - anyone can read it. Don't put super-secret stuff there unless the whole message is encrypted.\n",
    "\n",
    "### Frontend Methods:\n",
    "\n",
    "- GET: Asks for data(useful for displaying the users)\n",
    "- POST: Sends data to be saved which is primarily what we use for logins and sign ups\n",
    "- PUT: Updates existing data(useful for updating passwords)\n",
    "- Delete: Deletes data(Useful for deleting accounts)\n",
    "\n",
    "These methods help the frontend (what you see on a website) talk to the backend (where data is stored). They're like different actions – asking for info, saving new info, changing existing info, or deleting something.\n",
    "\n",
    "\n"
   ]
  },
  {
   "cell_type": "markdown",
   "metadata": {},
   "source": [
    "# Login Page\n",
    "This is some python code that we can put into the user.py api to add a login feature\n"
   ]
  },
  {
   "cell_type": "code",
   "execution_count": null,
   "metadata": {},
   "outputs": [],
   "source": [
    "class Login(Resource):\n",
    "        def post(self):\n",
    "            data = request.get_json()\n",
    "\n",
    "            uid = data.get('uid')\n",
    "            password = data.get('password')\n",
    "\n",
    "            if not uid or not password:\n",
    "                response = {'message': 'Invalid creds'}\n",
    "                return make_response(jsonify(response), 401)\n",
    "\n",
    "            user = User.query.filter_by(_uid=uid).first()\n",
    "\n",
    "            if user and user.is_password(password):\n",
    "         \n",
    "                response = {\n",
    "                    'message': 'Logged in successfully',\n",
    "                    'user': {\n",
    "                        'name': user.name,  \n",
    "                        'id': user.id\n",
    "                    }\n",
    "                }\n",
    "                return make_response(jsonify(response), 200)\n",
    "\n",
    "            response = {'message': 'Invalid id or pass'}\n",
    "            return make_response(jsonify(response), 401)\n",
    "            \n",
    "api.add_resource(Login, '/login')"
   ]
  },
  {
   "cell_type": "markdown",
   "metadata": {},
   "source": [
    "### Now lets make a login form with HTML and Javascript\n",
    "- You can style this with Saas\n",
    "- The username toby with the password 123toby should be an account already"
   ]
  },
  {
   "cell_type": "code",
   "execution_count": 3,
   "metadata": {
    "vscode": {
     "languageId": "html"
    }
   },
   "outputs": [
    {
     "data": {
      "text/html": [
       "<div id=\"login\">\n",
       "    <p><label>\n",
       "        User ID:\n",
       "        <input type=\"text\" name=\"uid\" id=\"uid\" required>\n",
       "    </label></p>\n",
       "    <p><label>\n",
       "        Password:\n",
       "        <input type=\"password\" name=\"password\" id=\"password\" required>\n",
       "    </label></p>\n",
       "    <p>\n",
       "        <button class=\"button\" type=\"submit\">Log in</button>\n",
       "    </p>\n",
       "</div>\n",
       "<script>\n",
       "    document.getElementById('login').addEventListener('submit', function(event) {\n",
       "             event.preventDefault(); \n",
       "             const uid = document.getElementById('uid').value;\n",
       "             const password = document.getElementById('password').value;\n",
       "             const loginData = {\n",
       "                 uid: uid,\n",
       "                 password: password\n",
       "             };\n",
       "             fetch('http://127.0.0.1:8086/api/users/login', { // use your own port please\n",
       "                 method: 'POST',\n",
       "                 headers: {\n",
       "                     'Content-Type': 'application/json'\n",
       "                 },\n",
       "                 body: JSON.stringify(loginData)\n",
       "             })\n",
       "             .then(response => {\n",
       "                 if (response.ok) {\n",
       "                     return response.json();\n",
       "                 } else {\n",
       "                     if (response.status === 401) {\n",
       "                         throw new Error('Wrong username or password. Please retype.');\n",
       "                     } else if (response.status === 404) {\n",
       "                         throw new Error('Username or password not found. Please register first.');\n",
       "                     } else {\n",
       "                         throw new Error('Login failed');\n",
       "                     }\n",
       "                 }\n",
       "             })\n",
       "             .then(data => {\n",
       "                 console.log('it worked!');\n",
       "             })\n",
       "             .catch(error => {\n",
       "                 console.error('Error:', error.message);\n",
       "                 alert(error.message);\n",
       "             });\n",
       "         });\n",
       "     </script>\n"
      ],
      "text/plain": [
       "<IPython.core.display.HTML object>"
      ]
     },
     "metadata": {},
     "output_type": "display_data"
    }
   ],
   "source": [
    "%%HTML\n",
    "<div id=\"login\">\n",
    "    <p><label>\n",
    "        User ID:\n",
    "        <input type=\"text\" name=\"uid\" id=\"uid\" required>\n",
    "    </label></p>\n",
    "    <p><label>\n",
    "        Password:\n",
    "        <input type=\"password\" name=\"password\" id=\"password\" required>\n",
    "    </label></p>\n",
    "    <p>\n",
    "        <button class=\"button\" type=\"submit\">Log in</button>\n",
    "    </p>\n",
    "</div>\n",
    "<script>\n",
    "    document.getElementById('login').addEventListener('submit', function(event) {\n",
    "             event.preventDefault(); \n",
    "             const uid = document.getElementById('uid').value;\n",
    "             const password = document.getElementById('password').value;\n",
    "             const loginData = {\n",
    "                 uid: uid,\n",
    "                 password: password\n",
    "             };\n",
    "             fetch('http://127.0.0.1:8086/api/users/login', { // use your own port please\n",
    "                 method: 'POST',\n",
    "                 headers: {\n",
    "                     'Content-Type': 'application/json'\n",
    "                 },\n",
    "                 body: JSON.stringify(loginData)\n",
    "             })\n",
    "             .then(response => {\n",
    "                 if (response.ok) {\n",
    "                     return response.json();\n",
    "                 } else {\n",
    "                     if (response.status === 401) {\n",
    "                         throw new Error('Wrong username or password. Please retype.');\n",
    "                     } else if (response.status === 404) {\n",
    "                         throw new Error('Username or password not found. Please register first.');\n",
    "                     } else {\n",
    "                         throw new Error('Login failed');\n",
    "                     }\n",
    "                 }\n",
    "             })\n",
    "             .then(data => {\n",
    "                 console.log('it worked!');\n",
    "             })\n",
    "             .catch(error => {\n",
    "                 console.error('Error:', error.message);\n",
    "                 alert(error.message);\n",
    "             });\n",
    "         });\n",
    "     </script>"
   ]
  }
 ],
 "metadata": {
  "kernelspec": {
   "display_name": "Python 3",
   "language": "python",
   "name": "python3"
  },
  "language_info": {
   "codemirror_mode": {
    "name": "ipython",
    "version": 3
   },
   "file_extension": ".py",
   "mimetype": "text/x-python",
   "name": "python",
   "nbconvert_exporter": "python",
   "pygments_lexer": "ipython3",
   "version": "3.10.12"
  }
 },
 "nbformat": 4,
 "nbformat_minor": 2
}
