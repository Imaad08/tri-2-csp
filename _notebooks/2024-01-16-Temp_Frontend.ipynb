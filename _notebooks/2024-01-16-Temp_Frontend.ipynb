{
 "cells": [
  {
   "cell_type": "markdown",
   "metadata": {},
   "source": [
    "---\n",
    "comments: True\n",
    "layout: post\n",
    "toc: True\n",
    "title: Temp Frontend\n",
    "description: Frontend \n",
    "type: hacks\n",
    "courses: { \"compsci\": { \"week\": 2 } }\n",
    "---"
   ]
  },
  {
   "cell_type": "markdown",
   "metadata": {},
   "source": [
    "<html>\n",
    "<script>\n",
    "    async function getData() {\n",
    "        top_text = document.getElementById('top_text').value;\n",
    "        // bottom_text = document.getElementById('bottom_text').value;\n",
    "        const apiUrl = \"http://127.0.0.1:8762/api/memes/get_text/\" + top_text;\n",
    "        const response = await fetch(apiUrl);\n",
    "        var data = await response.json();\n",
    "        console.log(response);\n",
    "    }; \n",
    "</script>\n",
    "\n",
    "<head>\n",
    "    <title>Meme_Top_Text</title>\n",
    "</head>\n",
    "<body>\n",
    "    <h1>Meme Top Text</h1>\n",
    "    <form method=\"POST\">\n",
    "        <label for=\"top_text\">Enter Top Text: </label>\n",
    "        <input type=\"text\" name=\"top_text\" id=\"top_text\" required>\n",
    "        <button type=\"button\" onClick='getData()'>Save</button>\n",
    "    </form>\n",
    "</body>\n",
    "</html> \n",
    "\n",
    "<html>\n",
    "<head>\n",
    "    <title>Meme_Bottom_Text</title>\n",
    "</head>\n",
    "<body>\n",
    "    <h1>Meme Bottom Text</h1>\n",
    "    <form method=\"POST\">\n",
    "        <label for=\"bottom_text\">Enter Bottom Text: </label>\n",
    "        <input type=\"text\" name=\"bottom_text\" id=\"bottom_text\" required>\n",
    "        <button type=\"button\" onClick='getData()'>Save</button>\n",
    "    </form>\n",
    "</body>\n",
    "</html> "
   ]
  }
 ],
 "metadata": {
  "language_info": {
   "name": "python"
  }
 },
 "nbformat": 4,
 "nbformat_minor": 2
}
